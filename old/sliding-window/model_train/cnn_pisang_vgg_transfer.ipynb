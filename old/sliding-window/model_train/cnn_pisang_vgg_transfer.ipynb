{
 "cells": [
  {
   "cell_type": "code",
   "execution_count": 1,
   "metadata": {
    "colab": {
     "base_uri": "https://localhost:8080/",
     "height": 35
    },
    "colab_type": "code",
    "id": "gqAWm9LvHp36",
    "outputId": "bdbc50a8-a374-42ff-d92b-7e544bf735b3"
   },
   "outputs": [
    {
     "name": "stderr",
     "output_type": "stream",
     "text": [
      "Using TensorFlow backend.\n"
     ]
    }
   ],
   "source": [
    "import pandas as pd\n",
    "import numpy as np\n",
    "import os\n",
    "import keras\n",
    "import matplotlib.pyplot as plt\n",
    "from keras.layers import Dense, Flatten\n",
    "from keras.applications import VGG16\n",
    "from keras.preprocessing import image\n",
    "from keras.applications.vgg16 import preprocess_input\n",
    "from keras.preprocessing.image import ImageDataGenerator\n",
    "from keras.models import Model\n",
    "from keras.optimizers import Adam\n",
    "from PIL import ImageFile\n",
    "from PIL import Image"
   ]
  },
  {
   "cell_type": "code",
   "execution_count": 1,
   "metadata": {
    "colab": {
     "base_uri": "https://localhost:8080/",
     "height": 55
    },
    "colab_type": "code",
    "id": "b0ptQSD07FTH",
    "outputId": "7f2ce9f9-77f4-4d3e-a4fa-bacfbf41f58e"
   },
   "outputs": [],
   "source": [
    "train_dir='/data/Training/'\n",
    "test_dir='/data/Testing/'"
   ]
  },
  {
   "cell_type": "code",
   "execution_count": 0,
   "metadata": {
    "colab": {},
    "colab_type": "code",
    "id": "qDy6rlg1JBsE"
   },
   "outputs": [],
   "source": [
    "gambar_baris=224\n",
    "gambar_kolom=224\n",
    "\n",
    "base_model=VGG16(weights='imagenet',include_top=False, input_shape=(gambar_baris,gambar_kolom,3))\n",
    "\n",
    "x=base_model.output\n",
    "x=Flatten()(x)\n",
    "x=Dense(4096,activation='relu')(x)\n",
    "x=Dense(4096,activation='relu')(x)\n",
    "preds=Dense(3,activation='softmax')(x)\n",
    "\n",
    "ImageFile.LOAD_TRUNCATED_IMAGES = True\n",
    "Image.MAX_IMAGE_PIXELS=None"
   ]
  },
  {
   "cell_type": "code",
   "execution_count": 4,
   "metadata": {
    "colab": {
     "base_uri": "https://localhost:8080/",
     "height": 990
    },
    "colab_type": "code",
    "id": "FH9F4Z81KKzO",
    "outputId": "3d760faf-54b3-4a43-f2c1-90a8de0066d7"
   },
   "outputs": [
    {
     "name": "stdout",
     "output_type": "stream",
     "text": [
      "_________________________________________________________________\n",
      "Layer (type)                 Output Shape              Param #   \n",
      "=================================================================\n",
      "input_1 (InputLayer)         (None, 224, 224, 3)       0         \n",
      "_________________________________________________________________\n",
      "block1_conv1 (Conv2D)        (None, 224, 224, 64)      1792      \n",
      "_________________________________________________________________\n",
      "block1_conv2 (Conv2D)        (None, 224, 224, 64)      36928     \n",
      "_________________________________________________________________\n",
      "block1_pool (MaxPooling2D)   (None, 112, 112, 64)      0         \n",
      "_________________________________________________________________\n",
      "block2_conv1 (Conv2D)        (None, 112, 112, 128)     73856     \n",
      "_________________________________________________________________\n",
      "block2_conv2 (Conv2D)        (None, 112, 112, 128)     147584    \n",
      "_________________________________________________________________\n",
      "block2_pool (MaxPooling2D)   (None, 56, 56, 128)       0         \n",
      "_________________________________________________________________\n",
      "block3_conv1 (Conv2D)        (None, 56, 56, 256)       295168    \n",
      "_________________________________________________________________\n",
      "block3_conv2 (Conv2D)        (None, 56, 56, 256)       590080    \n",
      "_________________________________________________________________\n",
      "block3_conv3 (Conv2D)        (None, 56, 56, 256)       590080    \n",
      "_________________________________________________________________\n",
      "block3_pool (MaxPooling2D)   (None, 28, 28, 256)       0         \n",
      "_________________________________________________________________\n",
      "block4_conv1 (Conv2D)        (None, 28, 28, 512)       1180160   \n",
      "_________________________________________________________________\n",
      "block4_conv2 (Conv2D)        (None, 28, 28, 512)       2359808   \n",
      "_________________________________________________________________\n",
      "block4_conv3 (Conv2D)        (None, 28, 28, 512)       2359808   \n",
      "_________________________________________________________________\n",
      "block4_pool (MaxPooling2D)   (None, 14, 14, 512)       0         \n",
      "_________________________________________________________________\n",
      "block5_conv1 (Conv2D)        (None, 14, 14, 512)       2359808   \n",
      "_________________________________________________________________\n",
      "block5_conv2 (Conv2D)        (None, 14, 14, 512)       2359808   \n",
      "_________________________________________________________________\n",
      "block5_conv3 (Conv2D)        (None, 14, 14, 512)       2359808   \n",
      "_________________________________________________________________\n",
      "block5_pool (MaxPooling2D)   (None, 7, 7, 512)         0         \n",
      "_________________________________________________________________\n",
      "flatten_1 (Flatten)          (None, 25088)             0         \n",
      "_________________________________________________________________\n",
      "dense_1 (Dense)              (None, 4096)              102764544 \n",
      "_________________________________________________________________\n",
      "dense_2 (Dense)              (None, 4096)              16781312  \n",
      "_________________________________________________________________\n",
      "dense_3 (Dense)              (None, 3)                 12291     \n",
      "=================================================================\n",
      "Total params: 134,272,835\n",
      "Trainable params: 134,272,835\n",
      "Non-trainable params: 0\n",
      "_________________________________________________________________\n"
     ]
    }
   ],
   "source": [
    "model=Model(inputs=base_model.input,outputs=preds)\n",
    "model.summary()"
   ]
  },
  {
   "cell_type": "code",
   "execution_count": 0,
   "metadata": {
    "colab": {},
    "colab_type": "code",
    "id": "kp0N-Ed2K3bM"
   },
   "outputs": [],
   "source": [
    "for layer in model.layers[:18]:\n",
    "    layer.trainable=False\n",
    "for layer in model.layers[18:]:\n",
    "    layer.trainable=True"
   ]
  },
  {
   "cell_type": "code",
   "execution_count": 6,
   "metadata": {
    "colab": {
     "base_uri": "https://localhost:8080/",
     "height": 54
    },
    "colab_type": "code",
    "id": "hZzf5FNbLcpO",
    "outputId": "3971ad7e-eeec-498a-cc5c-20afc5d183b3"
   },
   "outputs": [
    {
     "name": "stdout",
     "output_type": "stream",
     "text": [
      "Found 9560 images belonging to 3 classes.\n",
      "Found 15 images belonging to 3 classes.\n"
     ]
    }
   ],
   "source": [
    "train_datagen=ImageDataGenerator(preprocessing_function=preprocess_input)\n",
    "test_datagen=ImageDataGenerator(preprocessing_function=preprocess_input)\n",
    "\n",
    "train_generator = train_datagen.flow_from_directory(\n",
    "        train_dir,\n",
    "        target_size=(224, 224),\n",
    "        batch_size=20,\n",
    "        class_mode='categorical',\n",
    "        shuffle=True)\n",
    "\n",
    "test_generator = test_datagen.flow_from_directory(\n",
    "        test_dir,\n",
    "        target_size=(224, 224),\n",
    "        batch_size=20,\n",
    "        class_mode='categorical',\n",
    "        shuffle=True)"
   ]
  },
  {
   "cell_type": "code",
   "execution_count": 7,
   "metadata": {
    "colab": {
     "base_uri": "https://localhost:8080/",
     "height": 808
    },
    "colab_type": "code",
    "id": "Rog3Oln3LtH7",
    "outputId": "270b3a88-310d-4093-df6f-998228788ee5"
   },
   "outputs": [
    {
     "name": "stdout",
     "output_type": "stream",
     "text": [
      "Epoch 1/20\n"
     ]
    },
    {
     "name": "stderr",
     "output_type": "stream",
     "text": [
      "/usr/local/lib/python3.6/dist-packages/PIL/Image.py:872: UserWarning: Palette images with Transparency   expressed in bytes should be converted to RGBA images\n",
      "  'to RGBA images')\n"
     ]
    },
    {
     "name": "stdout",
     "output_type": "stream",
     "text": [
      " - 96s - loss: 7.9324 - acc: 0.5065 - val_loss: 3.2236 - val_acc: 0.8000\n",
      "Epoch 2/20\n",
      " - 80s - loss: 7.8979 - acc: 0.5100 - val_loss: 3.2236 - val_acc: 0.8000\n",
      "Epoch 3/20\n",
      " - 74s - loss: 8.0590 - acc: 0.5000 - val_loss: 3.2236 - val_acc: 0.8000\n",
      "Epoch 4/20\n",
      " - 89s - loss: 7.6319 - acc: 0.5265 - val_loss: 3.2236 - val_acc: 0.8000\n",
      "Epoch 5/20\n",
      " - 75s - loss: 7.5352 - acc: 0.5325 - val_loss: 3.2236 - val_acc: 0.8000\n",
      "Epoch 6/20\n",
      " - 79s - loss: 8.1155 - acc: 0.4965 - val_loss: 3.2236 - val_acc: 0.8000\n",
      "Epoch 7/20\n",
      " - 105s - loss: 7.4546 - acc: 0.5375 - val_loss: 3.2236 - val_acc: 0.8000\n",
      "Epoch 8/20\n",
      " - 73s - loss: 7.9301 - acc: 0.5080 - val_loss: 3.2236 - val_acc: 0.8000\n",
      "Epoch 9/20\n",
      " - 80s - loss: 7.9462 - acc: 0.5070 - val_loss: 3.2236 - val_acc: 0.8000\n",
      "Epoch 10/20\n",
      " - 87s - loss: 7.7125 - acc: 0.5215 - val_loss: 3.2236 - val_acc: 0.8000\n",
      "Epoch 11/20\n",
      " - 74s - loss: 7.7447 - acc: 0.5195 - val_loss: 3.2236 - val_acc: 0.8000\n",
      "Epoch 12/20\n",
      " - 79s - loss: 7.6722 - acc: 0.5240 - val_loss: 3.2236 - val_acc: 0.8000\n",
      "Epoch 13/20\n",
      " - 82s - loss: 7.9946 - acc: 0.5040 - val_loss: 3.2236 - val_acc: 0.8000\n",
      "Epoch 14/20\n",
      " - 77s - loss: 7.9865 - acc: 0.5045 - val_loss: 3.2236 - val_acc: 0.8000\n",
      "Epoch 15/20\n",
      " - 82s - loss: 7.5836 - acc: 0.5295 - val_loss: 3.2236 - val_acc: 0.8000\n",
      "Epoch 16/20\n",
      " - 76s - loss: 8.0268 - acc: 0.5020 - val_loss: 3.2236 - val_acc: 0.8000\n",
      "Epoch 17/20\n",
      " - 89s - loss: 8.0510 - acc: 0.5005 - val_loss: 3.2236 - val_acc: 0.8000\n",
      "Epoch 18/20\n",
      " - 82s - loss: 7.6964 - acc: 0.5225 - val_loss: 3.2236 - val_acc: 0.8000\n",
      "Epoch 19/20\n",
      " - 75s - loss: 7.8012 - acc: 0.5160 - val_loss: 3.2236 - val_acc: 0.8000\n",
      "Epoch 20/20\n",
      " - 78s - loss: 7.6964 - acc: 0.5225 - val_loss: 3.2236 - val_acc: 0.8000\n"
     ]
    }
   ],
   "source": [
    "model.compile(optimizer='Adam',loss='categorical_crossentropy',metrics=['accuracy'])\n",
    "\n",
    "history = model.fit_generator(\n",
    "      train_generator,\n",
    "      steps_per_epoch=100,  # 2000 images = batch_size * steps\n",
    "      epochs=20,\n",
    "      validation_data=test_generator,\n",
    "      validation_steps=25,  # 1000 images = batch_size * steps\n",
    "      verbose=2)"
   ]
  },
  {
   "cell_type": "code",
   "execution_count": 8,
   "metadata": {
    "colab": {
     "base_uri": "https://localhost:8080/",
     "height": 380
    },
    "colab_type": "code",
    "id": "KW4xlWR98TZe",
    "outputId": "dd9e6b56-c05a-4cf0-c5c6-53fb27487ec6"
   },
   "outputs": [
    {
     "data": {
      "text/plain": [
       "Text(0.5, 1.0, 'Akurasi Training dan validasi')"
      ]
     },
     "execution_count": 8,
     "metadata": {
      "tags": []
     },
     "output_type": "execute_result"
    },
    {
     "data": {
      "image/png": "[encoded data removed]",
      "text/plain": [
       "<Figure size 576x396 with 1 Axes>"
      ]
     },
     "metadata": {
      "tags": []
     },
     "output_type": "display_data"
    }
   ],
   "source": [
    "plt.plot(history.history['acc'])\n",
    "plt.plot(history.history['val_acc'])\n",
    "plt.title('Akurasi Training dan validasi')"
   ]
  },
  {
   "cell_type": "code",
   "execution_count": 0,
   "metadata": {
    "colab": {},
    "colab_type": "code",
    "id": "sA4YlM8c8U27"
   },
   "outputs": [],
   "source": [
    "model.save('classifier.h5')"
   ]
  },
  {
   "cell_type": "code",
   "execution_count": 0,
   "metadata": {
    "colab": {},
    "colab_type": "code",
    "id": "-IWswCLKL1e6"
   },
   "outputs": [],
   "source": [
    "lokasi = 'Prediksi/img5.jpg' #Diisi gambar yang ingin diprediksi\n",
    "img = image.load_img(lokasi, target_size=(gambar_baris, gambar_kolom))\n",
    "x = image.img_to_array(img)\n",
    "x = np.expand_dims(x, axis=0)\n",
    "prediksi = model.predict(x)\n",
    "print(prediksi)"
   ]
  }
 ],
 "metadata": {
  "accelerator": "GPU",
  "colab": {
   "collapsed_sections": [],
   "name": "cnn_pisang_vgg_transfer.ipynb",
   "provenance": [],
   "version": "0.3.2"
  },
  "kernelspec": {
   "display_name": "Python 3",
   "language": "python",
   "name": "python3"
  },
  "language_info": {
   "codemirror_mode": {
    "name": "ipython",
    "version": 3
   },
   "file_extension": ".py",
   "mimetype": "text/x-python",
   "name": "python",
   "nbconvert_exporter": "python",
   "pygments_lexer": "ipython3",
   "version": "3.6.7"
  }
 },
 "nbformat": 4,
 "nbformat_minor": 1
}
