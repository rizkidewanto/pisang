{
 "cells": [
  {
   "cell_type": "code",
   "execution_count": 0,
   "metadata": {
    "colab": {},
    "colab_type": "code",
    "id": "OmgS5vnoNF2b"
   },
   "outputs": [],
   "source": [
    "import keras\n",
    "import matplotlib.pyplot as plt\n",
    "from keras.models import Model\n",
    "from keras.layers import Conv2D, Dense, Flatten, MaxPooling2D, Input\n",
    "from keras.optimizers import RMSprop\n",
    "from keras.preprocessing.image import ImageDataGenerator\n",
    "from PIL import ImageFile, Image\n",
    "ImageFile.LOAD_TRUNCATED_IMAGES = True\n",
    "Image.MAX_IMAGE_PIXELS = 1000000000"
   ]
  },
  {
   "cell_type": "code",
   "execution_count": 1,
   "metadata": {
    "colab": {
     "base_uri": "https://localhost:8080/",
     "height": 55
    },
    "colab_type": "code",
    "id": "tmXWOecRDGnL",
    "outputId": "5733abb9-0290-4e4a-a691-600ad05e1645"
   },
   "outputs": [],
   "source": [
    "train_dir='/data/Training/'\n",
    "test_dir='/data/Testing/'"
   ]
  },
  {
   "cell_type": "code",
   "execution_count": 0,
   "metadata": {
    "colab": {},
    "colab_type": "code",
    "id": "p377J3sTDW1e"
   },
   "outputs": [],
   "source": [
    "masuk=Input(shape=(150,150,3))\n",
    "x = Conv2D(16, 3, activation='relu')(masuk)\n",
    "x = MaxPooling2D(2)(x)\n",
    "\n",
    "x = Conv2D(32, 3, activation='relu')(x)\n",
    "x = MaxPooling2D(2)(x)\n",
    "\n",
    "x = Conv2D(64, 3, activation='relu')(x)\n",
    "x = MaxPooling2D(2)(x)\n",
    "x=Flatten()(x)\n",
    "x=Dense(4096,activation='relu')(x)\n",
    "pred=Dense(3,activation='softmax')(x)\n",
    "\n",
    "cnn=Model(inputs=masuk,outputs=pred)"
   ]
  },
  {
   "cell_type": "code",
   "execution_count": 17,
   "metadata": {
    "colab": {
     "base_uri": "https://localhost:8080/",
     "height": 513
    },
    "colab_type": "code",
    "id": "lOZ2-qNpJjvO",
    "outputId": "38c519fc-0910-4bfa-f336-ae2cb95e9082"
   },
   "outputs": [
    {
     "name": "stdout",
     "output_type": "stream",
     "text": [
      "_________________________________________________________________\n",
      "Layer (type)                 Output Shape              Param #   \n",
      "=================================================================\n",
      "input_2 (InputLayer)         (None, 150, 150, 3)       0         \n",
      "_________________________________________________________________\n",
      "conv2d_4 (Conv2D)            (None, 148, 148, 16)      448       \n",
      "_________________________________________________________________\n",
      "max_pooling2d_4 (MaxPooling2 (None, 74, 74, 16)        0         \n",
      "_________________________________________________________________\n",
      "conv2d_5 (Conv2D)            (None, 72, 72, 32)        4640      \n",
      "_________________________________________________________________\n",
      "max_pooling2d_5 (MaxPooling2 (None, 36, 36, 32)        0         \n",
      "_________________________________________________________________\n",
      "conv2d_6 (Conv2D)            (None, 34, 34, 64)        18496     \n",
      "_________________________________________________________________\n",
      "max_pooling2d_6 (MaxPooling2 (None, 17, 17, 64)        0         \n",
      "_________________________________________________________________\n",
      "flatten_2 (Flatten)          (None, 18496)             0         \n",
      "_________________________________________________________________\n",
      "dense_3 (Dense)              (None, 4096)              75763712  \n",
      "_________________________________________________________________\n",
      "dense_4 (Dense)              (None, 3)                 12291     \n",
      "=================================================================\n",
      "Total params: 75,799,587\n",
      "Trainable params: 75,799,587\n",
      "Non-trainable params: 0\n",
      "_________________________________________________________________\n"
     ]
    }
   ],
   "source": [
    "cnn.compile(loss='categorical_crossentropy',\n",
    "              optimizer=RMSprop(lr=0.001),\n",
    "              metrics=['acc'])\n",
    "cnn.summary()"
   ]
  },
  {
   "cell_type": "code",
   "execution_count": 18,
   "metadata": {
    "colab": {
     "base_uri": "https://localhost:8080/",
     "height": 54
    },
    "colab_type": "code",
    "id": "D8jvHIGxLQOH",
    "outputId": "e363359a-2f06-4add-bdec-365e3c36b905"
   },
   "outputs": [
    {
     "name": "stdout",
     "output_type": "stream",
     "text": [
      "Found 9560 images belonging to 3 classes.\n",
      "Found 105 images belonging to 3 classes.\n"
     ]
    }
   ],
   "source": [
    "train_datagen = ImageDataGenerator(rescale=1./255)\n",
    "test_datagen = ImageDataGenerator(rescale=1./255)\n",
    "\n",
    "train_generator = train_datagen.flow_from_directory(\n",
    "        train_dir,\n",
    "        target_size=(150, 150),\n",
    "        batch_size=20,\n",
    "        class_mode='categorical')\n",
    "\n",
    "test_generator = test_datagen.flow_from_directory(\n",
    "        test_dir,\n",
    "        target_size=(150, 150),\n",
    "        batch_size=20,\n",
    "        class_mode='categorical')"
   ]
  },
  {
   "cell_type": "code",
   "execution_count": 20,
   "metadata": {
    "colab": {
     "base_uri": "https://localhost:8080/",
     "height": 827
    },
    "colab_type": "code",
    "id": "2b6AwmMDO9Ek",
    "outputId": "e4ff322e-cdb6-407d-dc54-c97e8775219d"
   },
   "outputs": [
    {
     "name": "stdout",
     "output_type": "stream",
     "text": [
      "Epoch 1/20\n"
     ]
    },
    {
     "name": "stderr",
     "output_type": "stream",
     "text": [
      "/usr/local/lib/python3.6/dist-packages/PIL/Image.py:872: UserWarning: Palette images with Transparency   expressed in bytes should be converted to RGBA images\n",
      "  'to RGBA images')\n"
     ]
    },
    {
     "name": "stdout",
     "output_type": "stream",
     "text": [
      " - 68s - loss: 0.3692 - acc: 0.8685 - val_loss: 0.3571 - val_acc: 0.8847\n",
      "Epoch 2/20\n",
      " - 46s - loss: 0.3351 - acc: 0.8865 - val_loss: 0.3810 - val_acc: 0.8773\n",
      "Epoch 3/20\n",
      " - 50s - loss: 0.3380 - acc: 0.8840 - val_loss: 0.3823 - val_acc: 0.8523\n",
      "Epoch 4/20\n",
      " - 39s - loss: 0.2993 - acc: 0.8820 - val_loss: 0.4731 - val_acc: 0.8591\n",
      "Epoch 5/20\n",
      " - 46s - loss: 0.3281 - acc: 0.9015 - val_loss: 0.6234 - val_acc: 0.7727\n",
      "Epoch 6/20\n",
      " - 70s - loss: 0.3468 - acc: 0.8840 - val_loss: 0.7466 - val_acc: 0.8386\n",
      "Epoch 7/20\n",
      " - 56s - loss: 0.3160 - acc: 0.8920 - val_loss: 0.5589 - val_acc: 0.8400\n",
      "Epoch 8/20\n",
      " - 50s - loss: 0.2977 - acc: 0.9045 - val_loss: 1.0477 - val_acc: 0.7477\n",
      "Epoch 9/20\n",
      " - 45s - loss: 0.2879 - acc: 0.8965 - val_loss: 1.0470 - val_acc: 0.7523\n",
      "Epoch 10/20\n",
      " - 45s - loss: 0.3360 - acc: 0.8890 - val_loss: 0.4337 - val_acc: 0.8750\n",
      "Epoch 11/20\n",
      " - 56s - loss: 0.3384 - acc: 0.8780 - val_loss: 0.7480 - val_acc: 0.7909\n",
      "Epoch 12/20\n",
      " - 57s - loss: 0.2621 - acc: 0.9030 - val_loss: 0.5756 - val_acc: 0.8023\n",
      "Epoch 13/20\n",
      " - 57s - loss: 0.3809 - acc: 0.8880 - val_loss: 0.6032 - val_acc: 0.7718\n",
      "Epoch 14/20\n",
      " - 67s - loss: 0.2794 - acc: 0.9145 - val_loss: 0.3776 - val_acc: 0.8886\n",
      "Epoch 15/20\n",
      " - 47s - loss: 0.2760 - acc: 0.8940 - val_loss: 0.4642 - val_acc: 0.8455\n",
      "Epoch 16/20\n",
      " - 49s - loss: 0.2861 - acc: 0.8950 - val_loss: 0.2931 - val_acc: 0.9000\n",
      "Epoch 17/20\n",
      " - 44s - loss: 0.2712 - acc: 0.9050 - val_loss: 0.5331 - val_acc: 0.7773\n",
      "Epoch 18/20\n",
      " - 41s - loss: 0.2647 - acc: 0.9160 - val_loss: 0.5858 - val_acc: 0.8000\n",
      "Epoch 19/20\n",
      " - 65s - loss: 0.2406 - acc: 0.9120 - val_loss: 0.4032 - val_acc: 0.9059\n",
      "Epoch 20/20\n",
      " - 51s - loss: 0.2854 - acc: 0.9055 - val_loss: 0.5184 - val_acc: 0.8386\n"
     ]
    },
    {
     "data": {
      "text/plain": [
       "<keras.callbacks.History at 0x7fa8d5442cf8>"
      ]
     },
     "execution_count": 20,
     "metadata": {
      "tags": []
     },
     "output_type": "execute_result"
    }
   ],
   "source": [
    "cnn.fit_generator(\n",
    "      train_generator,\n",
    "      steps_per_epoch=100,  # 2000 images = batch_size * steps\n",
    "      epochs=20,\n",
    "      validation_data=test_generator,\n",
    "      validation_steps=25,  # 1000 images = batch_size * steps\n",
    "      verbose=2)"
   ]
  },
  {
   "cell_type": "code",
   "execution_count": 0,
   "metadata": {
    "colab": {
     "base_uri": "https://localhost:8080/",
     "height": 380
    },
    "colab_type": "code",
    "id": "ASZ53Vz17jSD",
    "outputId": "276e7716-8427-43db-a558-7b0808fcafe5"
   },
   "outputs": [
    {
     "data": {
      "text/plain": [
       "Text(0.5, 1.0, 'Akurasi Training dan validasi')"
      ]
     },
     "execution_count": 9,
     "metadata": {
      "tags": []
     },
     "output_type": "execute_result"
    },
    {
     "data": {
      "image/png": "[encoded data removed]",
      "text/plain": [
       "<Figure size 576x396 with 1 Axes>"
      ]
     },
     "metadata": {
      "tags": []
     },
     "output_type": "display_data"
    }
   ],
   "source": [
    "plt.plot(history.history['acc'])\n",
    "plt.plot(history.history['val_acc'])\n",
    "plt.title('Akurasi Training dan validasi')"
   ]
  },
  {
   "cell_type": "code",
   "execution_count": 0,
   "metadata": {
    "colab": {},
    "colab_type": "code",
    "id": "D8W5hsk0YA6D"
   },
   "outputs": [],
   "source": [
    "cnn.save('classifier.h5')"
   ]
  },
  {
   "cell_type": "code",
   "execution_count": 0,
   "metadata": {
    "colab": {},
    "colab_type": "code",
    "id": "1lWFOMRIzuPa"
   },
   "outputs": [],
   "source": []
  }
 ],
 "metadata": {
  "accelerator": "GPU",
  "colab": {
   "collapsed_sections": [],
   "name": "cnn_no_vgg.ipynb",
   "provenance": [],
   "version": "0.3.2"
  },
  "kernelspec": {
   "display_name": "Python 3",
   "language": "python",
   "name": "python3"
  },
  "language_info": {
   "codemirror_mode": {
    "name": "ipython",
    "version": 3
   },
   "file_extension": ".py",
   "mimetype": "text/x-python",
   "name": "python",
   "nbconvert_exporter": "python",
   "pygments_lexer": "ipython3",
   "version": "3.6.7"
  }
 },
 "nbformat": 4,
 "nbformat_minor": 1
}
