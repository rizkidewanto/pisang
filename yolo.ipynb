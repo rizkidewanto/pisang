{
  "nbformat": 4,
  "nbformat_minor": 0,
  "metadata": {
    "colab": {
      "name": "yolo.ipynb",
      "version": "0.3.2",
      "provenance": [],
      "collapsed_sections": []
    },
    "kernelspec": {
      "name": "python3",
      "display_name": "Python 3"
    }
  },
  "cells": [
    {
      "metadata": {
        "id": "VeDQvhYZ0HPe",
        "colab_type": "code",
        "outputId": "fb4d8f79-a290-4ef9-db4c-6a137bd50dd4",
        "colab": {
          "base_uri": "https://localhost:8080/",
          "height": 147
        }
      },
      "cell_type": "code",
      "source": [
        "!git clone https://github.com/rizkidewanto/pisang"
      ],
      "execution_count": 0,
      "outputs": [
        {
          "output_type": "stream",
          "text": [
            "Cloning into 'pisang'...\n",
            "remote: Enumerating objects: 161, done.\u001b[K\n",
            "remote: Counting objects:   0% (1/161)   \u001b[K\rremote: Counting objects:   1% (2/161)   \u001b[K\rremote: Counting objects:   2% (4/161)   \u001b[K\rremote: Counting objects:   3% (5/161)   \u001b[K\rremote: Counting objects:   4% (7/161)   \u001b[K\rremote: Counting objects:   5% (9/161)   \u001b[K\rremote: Counting objects:   6% (10/161)   \u001b[K\rremote: Counting objects:   7% (12/161)   \u001b[K\rremote: Counting objects:   8% (13/161)   \u001b[K\rremote: Counting objects:   9% (15/161)   \u001b[K\rremote: Counting objects:  10% (17/161)   \u001b[K\rremote: Counting objects:  11% (18/161)   \u001b[K\rremote: Counting objects:  12% (20/161)   \u001b[K\rremote: Counting objects:  13% (21/161)   \u001b[K\rremote: Counting objects:  14% (23/161)   \u001b[K\rremote: Counting objects:  15% (25/161)   \u001b[K\rremote: Counting objects:  16% (26/161)   \u001b[K\rremote: Counting objects:  17% (28/161)   \u001b[K\rremote: Counting objects:  18% (29/161)   \u001b[K\rremote: Counting objects:  19% (31/161)   \u001b[K\rremote: Counting objects:  20% (33/161)   \u001b[K\rremote: Counting objects:  21% (34/161)   \u001b[K\rremote: Counting objects:  22% (36/161)   \rremote: Counting objects:  23% (38/161)   \u001b[K\rremote: Counting objects:  24% (39/161)   \u001b[K\rremote: Counting objects:  25% (41/161)   \u001b[K\rremote: Counting objects:  26% (42/161)   \u001b[K\rremote: Counting objects:  27% (44/161)   \u001b[K\rremote: Counting objects:  28% (46/161)   \u001b[K\rremote: Counting objects:  29% (47/161)   \u001b[K\rremote: Counting objects:  30% (49/161)   \u001b[K\rremote: Counting objects:  31% (50/161)   \u001b[K\rremote: Counting objects:  32% (52/161)   \u001b[K\rremote: Counting objects:  33% (54/161)   \u001b[K\rremote: Counting objects:  34% (55/161)   \u001b[K\rremote: Counting objects:  35% (57/161)   \u001b[K\rremote: Counting objects:  36% (58/161)   \u001b[K\rremote: Counting objects:  37% (60/161)   \u001b[K\rremote: Counting objects:  38% (62/161)   \u001b[K\rremote: Counting objects:  39% (63/161)   \u001b[K\rremote: Counting objects:  40% (65/161)   \u001b[K\rremote: Counting objects:  41% (67/161)   \u001b[K\rremote: Counting objects:  42% (68/161)   \u001b[K\rremote: Counting objects:  43% (70/161)   \rremote: Counting objects:  44% (71/161)   \u001b[K\rremote: Counting objects:  45% (73/161)   \u001b[K\rremote: Counting objects:  46% (75/161)   \u001b[K\rremote: Counting objects:  47% (76/161)   \u001b[K\rremote: Counting objects:  48% (78/161)   \u001b[K\rremote: Counting objects:  49% (79/161)   \u001b[K\rremote: Counting objects:  50% (81/161)   \u001b[K\rremote: Counting objects:  51% (83/161)   \u001b[K\rremote: Counting objects:  52% (84/161)   \u001b[K\rremote: Counting objects:  53% (86/161)   \u001b[K\rremote: Counting objects:  54% (87/161)   \u001b[K\rremote: Counting objects:  55% (89/161)   \u001b[K\rremote: Counting objects:  56% (91/161)   \u001b[K\rremote: Counting objects:  57% (92/161)   \u001b[K\rremote: Counting objects:  58% (94/161)   \u001b[K\rremote: Counting objects:  59% (95/161)   \u001b[K\rremote: Counting objects:  60% (97/161)   \u001b[K\rremote: Counting objects:  61% (99/161)   \u001b[K\rremote: Counting objects:  62% (100/161)   \u001b[K\rremote: Counting objects:  63% (102/161)   \u001b[K\rremote: Counting objects:  64% (104/161)   \u001b[K\rremote: Counting objects:  65% (105/161)   \u001b[K\rremote: Counting objects:  66% (107/161)   \u001b[K\rremote: Counting objects:  67% (108/161)   \u001b[K\rremote: Counting objects:  68% (110/161)   \u001b[K\rremote: Counting objects:  69% (112/161)   \u001b[K\rremote: Counting objects:  70% (113/161)   \u001b[K\rremote: Counting objects:  71% (115/161)   \u001b[K\rremote: Counting objects:  72% (116/161)   \u001b[K\rremote: Counting objects:  73% (118/161)   \u001b[K\rremote: Counting objects:  74% (120/161)   \u001b[K\rremote: Counting objects:  75% (121/161)   \u001b[K\rremote: Counting objects:  76% (123/161)   \u001b[K\rremote: Counting objects:  77% (124/161)   \u001b[K\rremote: Counting objects:  78% (126/161)   \u001b[K\rremote: Counting objects:  79% (128/161)   \u001b[K\rremote: Counting objects:  80% (129/161)   \u001b[K\rremote: Counting objects:  81% (131/161)   \u001b[K\rremote: Counting objects:  82% (133/161)   \u001b[K\rremote: Counting objects:  83% (134/161)   \u001b[K\rremote: Counting objects:  84% (136/161)   \u001b[K\rremote: Counting objects:  85% (137/161)   \u001b[K\rremote: Counting objects:  86% (139/161)   \u001b[K\rremote: Counting objects:  87% (141/161)   \u001b[K\rremote: Counting objects:  88% (142/161)   \u001b[K\rremote: Counting objects:  89% (144/161)   \u001b[K\rremote: Counting objects:  90% (145/161)   \u001b[K\rremote: Counting objects:  91% (147/161)   \u001b[K\rremote: Counting objects:  92% (149/161)   \u001b[K\rremote: Counting objects:  93% (150/161)   \u001b[K\rremote: Counting objects:  94% (152/161)   \u001b[K\rremote: Counting objects:  95% (153/161)   \u001b[K\rremote: Counting objects:  96% (155/161)   \u001b[K\rremote: Counting objects:  97% (157/161)   \u001b[K\rremote: Counting objects:  98% (158/161)   \u001b[K\rremote: Counting objects:  99% (160/161)   \u001b[K\rremote: Counting objects: 100% (161/161)   \u001b[K\rremote: Counting objects: 100% (161/161), done.\u001b[K\n",
            "remote: Compressing objects: 100% (113/113), done.\u001b[K\n",
            "remote: Total 161 (delta 52), reused 152 (delta 43), pack-reused 0\u001b[K\n",
            "Receiving objects: 100% (161/161), 30.47 MiB | 34.86 MiB/s, done.\n",
            "Resolving deltas: 100% (52/52), done.\n"
          ],
          "name": "stdout"
        }
      ]
    },
    {
      "metadata": {
        "id": "sfmNZePlS9bc",
        "colab_type": "code",
        "outputId": "1cb640fa-bf01-4056-eacf-e443c09f20e1",
        "colab": {
          "base_uri": "https://localhost:8080/",
          "height": 316
        }
      },
      "cell_type": "code",
      "source": [
        "%cd pisang/yolo\n",
        "#!python3 setup.py build_ext --inplace\n",
        "!pip install . #Install Keseluruhan\n",
        "!wget https://pjreddie.com/media/files/VOCtrainval_11-May-2012.tar\n",
        "!tar xf VOCtrainval_11-May-2012.tar"
      ],
      "execution_count": 10,
      "outputs": [
        {
          "output_type": "stream",
          "text": [
            "[Errno 2] No such file or directory: 'pisang/yolo'\n",
            "/content/pisang/yolo\n",
            "running build_ext\n",
            "copying build/lib.linux-x86_64-3.6/darkflow/cython_utils/nms.cpython-36m-x86_64-linux-gnu.so -> darkflow/cython_utils\n",
            "copying build/lib.linux-x86_64-3.6/darkflow/cython_utils/cy_yolo2_findboxes.cpython-36m-x86_64-linux-gnu.so -> darkflow/cython_utils\n",
            "copying build/lib.linux-x86_64-3.6/darkflow/cython_utils/cy_yolo_findboxes.cpython-36m-x86_64-linux-gnu.so -> darkflow/cython_utils\n",
            "--2019-04-06 14:05:01--  https://pjreddie.com/media/files/VOCtrainval_11-May-2012.tar\n",
            "Resolving pjreddie.com (pjreddie.com)... 128.208.3.39\n",
            "Connecting to pjreddie.com (pjreddie.com)|128.208.3.39|:443... connected.\n",
            "HTTP request sent, awaiting response... 200 OK\n",
            "Length: 1999639040 (1.9G) [application/octet-stream]\n",
            "Saving to: ‘VOCtrainval_11-May-2012.tar.1’\n",
            "\n",
            "11-May-2012.tar.1    19%[==>                 ] 379.51M  86.6MB/s    eta 18s    ^C\n",
            "^C\n"
          ],
          "name": "stdout"
        }
      ]
    },
    {
      "metadata": {
        "id": "n2ee3LO3qOTK",
        "colab_type": "code",
        "colab": {
          "base_uri": "https://localhost:8080/",
          "height": 2165
        },
        "outputId": "7a0e56f0-2357-4124-8e49-a88e01f6d577"
      },
      "cell_type": "code",
      "source": [
        "!flow --model cfg/yolo.cfg --train --dataset \"VOCdevkit/VOC2012/JPEGImages\" --annotation \"VOCdevkit/VOC2012/Annotations\""
      ],
      "execution_count": 0,
      "outputs": [
        {
          "output_type": "stream",
          "text": [
            "\n",
            "Parsing cfg/yolo.cfg\n",
            "Loading None ...\n",
            "Finished in 0.0001552104949951172s\n",
            "Model has a coco model name, loading coco labels.\n",
            "\n",
            "Building net ...\n",
            "Source | Train? | Layer description                | Output size\n",
            "-------+--------+----------------------------------+---------------\n",
            "WARNING:tensorflow:From /usr/local/lib/python3.6/dist-packages/tensorflow/python/framework/op_def_library.py:263: colocate_with (from tensorflow.python.framework.ops) is deprecated and will be removed in a future version.\n",
            "Instructions for updating:\n",
            "Colocations handled automatically by placer.\n",
            "       |        | input                            | (?, 608, 608, 3)\n",
            " Init  |  Yep!  | conv 3x3p1_1  +bnorm  leaky      | (?, 608, 608, 32)\n",
            " Load  |  Yep!  | maxp 2x2p0_2                     | (?, 304, 304, 32)\n",
            " Init  |  Yep!  | conv 3x3p1_1  +bnorm  leaky      | (?, 304, 304, 64)\n",
            " Load  |  Yep!  | maxp 2x2p0_2                     | (?, 152, 152, 64)\n",
            " Init  |  Yep!  | conv 3x3p1_1  +bnorm  leaky      | (?, 152, 152, 128)\n",
            " Init  |  Yep!  | conv 1x1p0_1  +bnorm  leaky      | (?, 152, 152, 64)\n",
            " Init  |  Yep!  | conv 3x3p1_1  +bnorm  leaky      | (?, 152, 152, 128)\n",
            " Load  |  Yep!  | maxp 2x2p0_2                     | (?, 76, 76, 128)\n",
            " Init  |  Yep!  | conv 3x3p1_1  +bnorm  leaky      | (?, 76, 76, 256)\n",
            " Init  |  Yep!  | conv 1x1p0_1  +bnorm  leaky      | (?, 76, 76, 128)\n",
            " Init  |  Yep!  | conv 3x3p1_1  +bnorm  leaky      | (?, 76, 76, 256)\n",
            " Load  |  Yep!  | maxp 2x2p0_2                     | (?, 38, 38, 256)\n",
            " Init  |  Yep!  | conv 3x3p1_1  +bnorm  leaky      | (?, 38, 38, 512)\n",
            " Init  |  Yep!  | conv 1x1p0_1  +bnorm  leaky      | (?, 38, 38, 256)\n",
            " Init  |  Yep!  | conv 3x3p1_1  +bnorm  leaky      | (?, 38, 38, 512)\n",
            " Init  |  Yep!  | conv 1x1p0_1  +bnorm  leaky      | (?, 38, 38, 256)\n",
            " Init  |  Yep!  | conv 3x3p1_1  +bnorm  leaky      | (?, 38, 38, 512)\n",
            " Load  |  Yep!  | maxp 2x2p0_2                     | (?, 19, 19, 512)\n",
            " Init  |  Yep!  | conv 3x3p1_1  +bnorm  leaky      | (?, 19, 19, 1024)\n",
            " Init  |  Yep!  | conv 1x1p0_1  +bnorm  leaky      | (?, 19, 19, 512)\n",
            " Init  |  Yep!  | conv 3x3p1_1  +bnorm  leaky      | (?, 19, 19, 1024)\n",
            " Init  |  Yep!  | conv 1x1p0_1  +bnorm  leaky      | (?, 19, 19, 512)\n",
            " Init  |  Yep!  | conv 3x3p1_1  +bnorm  leaky      | (?, 19, 19, 1024)\n",
            " Init  |  Yep!  | conv 3x3p1_1  +bnorm  leaky      | (?, 19, 19, 1024)\n",
            " Init  |  Yep!  | conv 3x3p1_1  +bnorm  leaky      | (?, 19, 19, 1024)\n",
            " Load  |  Yep!  | concat [16]                      | (?, 38, 38, 512)\n",
            " Init  |  Yep!  | conv 1x1p0_1  +bnorm  leaky      | (?, 38, 38, 64)\n",
            " Load  |  Yep!  | local flatten 2x2                | (?, 19, 19, 256)\n",
            " Load  |  Yep!  | concat [27, 24]                  | (?, 19, 19, 1280)\n",
            " Init  |  Yep!  | conv 3x3p1_1  +bnorm  leaky      | (?, 19, 19, 1024)\n",
            " Init  |  Yep!  | conv 1x1p0_1    linear           | (?, 19, 19, 425)\n",
            "-------+--------+----------------------------------+---------------\n",
            "Running entirely on CPU\n",
            "cfg/yolo.cfg loss hyper-parameters:\n",
            "\tH       = 19\n",
            "\tW       = 19\n",
            "\tbox     = 5\n",
            "\tclasses = 80\n",
            "\tscales  = [1.0, 5.0, 1.0, 1.0]\n",
            "WARNING:tensorflow:From /usr/local/lib/python3.6/dist-packages/darkflow/net/yolov2/train.py:87: to_float (from tensorflow.python.ops.math_ops) is deprecated and will be removed in a future version.\n",
            "Instructions for updating:\n",
            "Use tf.cast instead.\n",
            "Building cfg/yolo.cfg loss\n",
            "Building cfg/yolo.cfg train op\n",
            "WARNING:tensorflow:From /usr/local/lib/python3.6/dist-packages/tensorflow/python/ops/math_ops.py:3066: to_int32 (from tensorflow.python.ops.math_ops) is deprecated and will be removed in a future version.\n",
            "Instructions for updating:\n",
            "Use tf.cast instead.\n",
            "2019-04-06 14:15:20.029268: I tensorflow/core/platform/profile_utils/cpu_utils.cc:94] CPU Frequency: 2200000000 Hz\n",
            "2019-04-06 14:15:20.032171: I tensorflow/compiler/xla/service/service.cc:150] XLA service 0x2838100 executing computations on platform Host. Devices:\n",
            "2019-04-06 14:15:20.032228: I tensorflow/compiler/xla/service/service.cc:158]   StreamExecutor device (0): <undefined>, <undefined>\n",
            "Finished in 12.7494535446167s\n",
            "\n",
            "Enter training ...\n",
            "\n",
            "cfg/yolo.cfg parsing VOCdevkit/VOC2012/Annotations\n",
            "Parsing for ['person', 'bicycle', 'car', 'motorbike', 'aeroplane', 'bus', 'train', 'truck', 'boat', 'traffic light', 'fire hydrant', 'stop sign', 'parking meter', 'bench', 'bird', 'cat', 'dog', 'horse', 'sheep', 'cow', 'elephant', 'bear', 'zebra', 'giraffe', 'backpack', 'umbrella', 'handbag', 'tie', 'suitcase', 'frisbee', 'skis', 'snowboard', 'sports ball', 'kite', 'baseball bat', 'baseball glove', 'skateboard', 'surfboard', 'tennis racket', 'bottle', 'wine glass', 'cup', 'fork', 'knife', 'spoon', 'bowl', 'banana', 'apple', 'sandwich', 'orange', 'broccoli', 'carrot', 'hot dog', 'pizza', 'donut', 'cake', 'chair', 'sofa', 'pottedplant', 'bed', 'diningtable', 'toilet', 'tvmonitor', 'laptop', 'mouse', 'remote', 'keyboard', 'cell phone', 'microwave', 'oven', 'toaster', 'sink', 'refrigerator', 'book', 'clock', 'vase', 'scissors', 'teddy bear', 'hair drier', 'toothbrush'] \n",
            "[====================>]100%  2008_006347.xml\n",
            "Statistics:\n",
            "bicycle: 837\n",
            "person: 17401\n",
            "tvmonitor: 893\n",
            "train: 704\n",
            "aeroplane: 1002\n",
            "bus: 685\n",
            "motorbike: 801\n",
            "diningtable: 800\n",
            "chair: 3056\n",
            "sheep: 1084\n",
            "car: 2492\n",
            "dog: 1598\n",
            "boat: 1059\n",
            "bird: 1271\n",
            "cow: 771\n",
            "cat: 1277\n",
            "bottle: 1561\n",
            "horse: 803\n",
            "sofa: 841\n",
            "pottedplant: 1202\n",
            "Dataset size: 17125\n",
            "Dataset of 17125 instance(s)\n",
            "Training statistics: \n",
            "\tLearning rate : 1e-05\n",
            "\tBatch size    : 16\n",
            "\tEpoch number  : 1000\n",
            "\tBackup every  : 2000\n",
            "2019-04-06 14:15:41.752543: W tensorflow/core/framework/allocator.cc:124] Allocation of 757071872 exceeds 10% of system memory.\n",
            "2019-04-06 14:15:44.526626: W tensorflow/core/framework/allocator.cc:124] Allocation of 757071872 exceeds 10% of system memory.\n",
            "2019-04-06 14:15:44.526626: W tensorflow/core/framework/allocator.cc:124] Allocation of 757071872 exceeds 10% of system memory.\n",
            "2019-04-06 14:15:46.719783: W tensorflow/core/framework/allocator.cc:124] Allocation of 757071872 exceeds 10% of system memory.\n",
            "2019-04-06 14:15:47.237738: W tensorflow/core/framework/allocator.cc:124] Allocation of 757071872 exceeds 10% of system memory.\n",
            "tcmalloc: large alloc 1703567360 bytes == 0x1a7d20000 @  0x7f229db041e7 0x7f228f3903e5 0x7f228f400f8e 0x7f228f663fb8 0x7f228f684526 0x7f228f684989 0x7f228f685cc1 0x7f2289d4c99d 0x7f2289d3fda5 0x7f2289dc4fb7 0x7f2289dc1be8 0x7f229c3e657f 0x7f229d4c86db 0x7f229d80188f\n",
            "step 1 - loss 229.35565185546875 - moving ave loss 229.35565185546875\n",
            "tcmalloc: large alloc 1703567360 bytes == 0x79848000 @  0x7f229db041e7 0x7f228f3903e5 0x7f228f400f8e 0x7f228f663fb8 0x7f228f684526 0x7f228f684989 0x7f228f685cc1 0x7f2289d4c99d 0x7f2289d3fda5 0x7f2289dc4fb7 0x7f2289dc1be8 0x7f229c3e657f 0x7f229d4c86db 0x7f229d80188f\n",
            "step 2 - loss 228.61309814453125 - moving ave loss 229.28139648437502\n",
            "tcmalloc: large alloc 1703567360 bytes == 0x79848000 @  0x7f229db041e7 0x7f228f3903e5 0x7f228f400f8e 0x7f228f663fb8 0x7f228f684526 0x7f228f684989 0x7f228f685cc1 0x7f2289d4c99d 0x7f2289d3fda5 0x7f2289dc4fb7 0x7f2289dc1be8 0x7f229c3e657f 0x7f229d4c86db 0x7f229d80188f\n",
            "step 3 - loss 229.05255126953125 - moving ave loss 229.25851196289065\n",
            "tcmalloc: large alloc 1703567360 bytes == 0x1a7d20000 @  0x7f229db041e7 0x7f228f3903e5 0x7f228f400f8e 0x7f228f663fb8 0x7f228f684526 0x7f228f684989 0x7f228f685cc1 0x7f2289d4c99d 0x7f2289d3fda5 0x7f2289dc4fb7 0x7f2289dc1be8 0x7f229c3e657f 0x7f229d4c86db 0x7f229d80188f\n",
            "step 4 - loss 229.2044677734375 - moving ave loss 229.25310754394533\n",
            "step 5 - loss 228.64657592773438 - moving ave loss 229.19245438232423\n",
            "step 6 - loss 228.27272033691406 - moving ave loss 229.1004809777832\n"
          ],
          "name": "stdout"
        }
      ]
    },
    {
      "metadata": {
        "id": "Mb-VNq5I9_js",
        "colab_type": "code",
        "colab": {}
      },
      "cell_type": "code",
      "source": [
        ""
      ],
      "execution_count": 0,
      "outputs": []
    }
  ]
}